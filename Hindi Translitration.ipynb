{
 "cells": [
  {
   "cell_type": "code",
   "execution_count": 6,
   "metadata": {},
   "outputs": [
    {
     "name": "stdout",
     "output_type": "stream",
     "text": [
      "हेलो राहुल वर्मा\n"
     ]
    }
   ],
   "source": [
    "lang = 'hi-t-i0-und'\n",
    "import http.client\n",
    "import json\n",
    "\n",
    "def request(q, lang):\n",
    "    conn = http.client.HTTPSConnection('inputtools.google.com')\n",
    "    conn.request('GET', '/request?text=' + q + '&itc=' + lang + '&num=1&cp=0&cs=1&ie=utf-8&oe=utf-8&app=test')\n",
    "    res = conn.getresponse()\n",
    "    return res\n",
    "\n",
    "def get_hindi(q):\n",
    "    output = ''\n",
    "    if ' ' in q:\n",
    "        q = q.split(' ')\n",
    "        for i in q:\n",
    "            res = request(i, lang)\n",
    "            res = res.read()\n",
    "            if i==0:\n",
    "                output = str(res)[14+4+len(i):-31]\n",
    "            else:\n",
    "                output = output + ' ' + str(res)[14+4+len(i):-31]\n",
    "    else:\n",
    "        res = request(q, lang)\n",
    "        res = res.read()\n",
    "        output = str(res)[14+4+len(q):-31]\n",
    "    output=output.strip()\n",
    "#     print(output)\n",
    "    return output\n",
    "    \n",
    "x=get_hindi('hello rahul verma')\n",
    "print (x)"
   ]
  },
  {
   "cell_type": "code",
   "execution_count": 5,
   "metadata": {},
   "outputs": [
    {
     "name": "stdout",
     "output_type": "stream",
     "text": [
      "हेलो राहुल वर्मा\n"
     ]
    }
   ],
   "source": [
    "print x.split()[0],x.split()[1],x.split()[2]"
   ]
  },
  {
   "cell_type": "code",
   "execution_count": 3,
   "metadata": {},
   "outputs": [
    {
     "data": {
      "text/plain": [
       "'\\xe0\\xa4\\xa8\\xe0\\xa4\\xbf\\xe0\\xa4\\x95\\xe0\\xa4\\xbf\\xe0\\xa4\\xb2 \\xe0\\xa4\\xae\\xe0\\xa4\\xbe\\xe0\\xa4\\xb5\\xe0\\xa5\\x87\\xe0\\xa4\\xb2\\xe0\\xa5\\x80'"
      ]
     },
     "execution_count": 3,
     "metadata": {},
     "output_type": "execute_result"
    }
   ],
   "source": [
    "get_hindi('nickil maveli',hindi)"
   ]
  },
  {
   "cell_type": "code",
   "execution_count": null,
   "metadata": {},
   "outputs": [],
   "source": []
  }
 ],
 "metadata": {
  "kernelspec": {
   "display_name": "ent2",
   "language": "python",
   "name": "ent2"
  },
  "language_info": {
   "codemirror_mode": {
    "name": "ipython",
    "version": 2
   },
   "file_extension": ".py",
   "mimetype": "text/x-python",
   "name": "python",
   "nbconvert_exporter": "python",
   "pygments_lexer": "ipython2",
   "version": "2.7.17"
  }
 },
 "nbformat": 4,
 "nbformat_minor": 2
}
